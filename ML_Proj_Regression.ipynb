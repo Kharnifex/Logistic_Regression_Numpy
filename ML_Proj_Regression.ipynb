{
 "cells": [
  {
   "cell_type": "markdown",
   "id": "2dc058dd",
   "metadata": {},
   "source": [
    "# Ioannis Gkionis\n",
    "\n",
    "## Logistic Regression Model\n",
    "\n",
    "This was made as a part of a university project. The preprocessing is all done in functions.py and the logistic regression model is defined in regression.py. The code is all original and well-documented"
   ]
  },
  {
   "cell_type": "code",
   "execution_count": 1,
   "id": "23bfd31f",
   "metadata": {},
   "outputs": [
    {
     "data": {
      "text/plain": [
       "(9071, 784)"
      ]
     },
     "execution_count": 1,
     "metadata": {},
     "output_type": "execute_result"
    }
   ],
   "source": [
    "from main import *\n",
    "import matplotlib.pyplot as plt\n",
    "import math\n",
    "X_train.shape"
   ]
  },
  {
   "cell_type": "markdown",
   "id": "95d64f7b",
   "metadata": {},
   "source": [
    "The Logistic Regression model's source code can be found on regression.py with full documentation. The math used in these functions is almost identical to the math used in the labs, with some minor changes that were needed for the MNIST dataset. <br>\n",
    "The Data Preprocessing is done using functions defined in functions.py, with the function load_and_prepare_data() wrapping all those up. All code is original and fully documented"
   ]
  },
  {
   "cell_type": "markdown",
   "id": "569ccb3c",
   "metadata": {},
   "source": [
    "Let's try running a Logistic Regression Model with the default parameters (no L2 regularization, 2000 iterations and a learning rate of 0.1)"
   ]
  },
  {
   "cell_type": "code",
   "execution_count": 2,
   "id": "882c2a67",
   "metadata": {},
   "outputs": [
    {
     "name": "stdout",
     "output_type": "stream",
     "text": [
      "Model: Logistic Regression Classifier, Accuracy of test set:  0.981081081081081\n"
     ]
    }
   ],
   "source": [
    "run_Regression()"
   ]
  },
  {
   "cell_type": "markdown",
   "id": "ef879854",
   "metadata": {},
   "source": [
    "Or alternatively:"
   ]
  },
  {
   "cell_type": "code",
   "execution_count": 3,
   "id": "e857cc34",
   "metadata": {
    "scrolled": true
   },
   "outputs": [
    {
     "name": "stdout",
     "output_type": "stream",
     "text": [
      "Model: Logistic Regression Classifier, Accuracy of test set:  0.981081081081081\n"
     ]
    }
   ],
   "source": [
    "J_train, J_valid, theta = ComputeLogisticRegression(X_train, y_train, X_valid, y_valid, _lambda=0.0, tot_iter=2000, alpha=0.1)\n",
    "\n",
    "print_Predictions(theta, X_test, y_test, name='Logistic Regression Classifier', threshold=0.5 -1e-6)"
   ]
  },
  {
   "cell_type": "markdown",
   "id": "fac4a62d",
   "metadata": {},
   "source": [
    "We can see that the classifier's accuracy is equal to 0.981. Note that this does not change because of the way we import the data (nothing is randomized). I was thinking about adding a random element for the 80-20 train-validation split but i ended up deciding against it in favour of having more consistent results"
   ]
  },
  {
   "cell_type": "markdown",
   "id": "086f6d11",
   "metadata": {},
   "source": [
    "We can then show the Error value as a function of the number of iterations and use our model to predict the test data"
   ]
  },
  {
   "cell_type": "code",
   "execution_count": 4,
   "id": "b5b837b6",
   "metadata": {},
   "outputs": [
    {
     "data": {
      "image/png": "[encoded data removed]",
      "text/plain": [
       "<Figure size 720x288 with 2 Axes>"
      ]
     },
     "metadata": {
      "needs_background": "light"
     },
     "output_type": "display_data"
    },
    {
     "name": "stdout",
     "output_type": "stream",
     "text": [
      "Accuracy of training set 0.9791643699702348\n",
      "Accuracy of validation set 0.9783950617283951\n",
      "Accuracy of test set 0.981081081081081\n"
     ]
    }
   ],
   "source": [
    "plt.figure( figsize=(10,4) )\n",
    "plt.subplot( 1, 2, 1 )\n",
    "plt.plot( np.arange( len(J_train) ), J_train, label='λ=0' )\n",
    "plt.xlabel( 'Number of iterations' )\n",
    "plt.ylabel( 'Train Error' )\n",
    "plt.legend()\n",
    "plt.subplot( 1,2,2)\n",
    "plt.plot( np.arange( len(J_valid) ), J_valid, label='λ=0' )\n",
    "plt.xlabel( 'Number of iterations' )\n",
    "plt.ylabel( 'Validation error' )\n",
    "plt.legend()\n",
    "plt.show()\n",
    "p_train, prob_train = predict( theta, X_train )\n",
    "p_valid, prob_valid = predict( theta, X_valid )\n",
    "p_test, prob_test = predict( theta, X_test )\n",
    "print( 'Accuracy of training set', np.mean( p_train.astype('int') == y_train ) )\n",
    "print( 'Accuracy of validation set', np.mean( p_valid.astype('int') == y_valid ) )\n",
    "print( 'Accuracy of test set', np.mean( p_test.astype('int') == y_test ) )"
   ]
  },
  {
   "cell_type": "markdown",
   "id": "0788f56a",
   "metadata": {},
   "source": [
    "We then get 20 possible lambda values ranging from 10^(-4) to 10 "
   ]
  },
  {
   "cell_type": "code",
   "execution_count": 5,
   "id": "0d4db609",
   "metadata": {},
   "outputs": [],
   "source": [
    "values_no = 20\n",
    "lambda_values = np.logspace(-4, 1, num=values_no, base=10).tolist()"
   ]
  },
  {
   "cell_type": "code",
   "execution_count": 6,
   "id": "9bbd4d7e",
   "metadata": {},
   "outputs": [],
   "source": [
    "final_loss = []\n",
    "for i in range (0, len(lambda_values)-1):\n",
    "    J_train, J_valid, theta = ComputeLogisticRegression( X_train, y_train, X_valid, y_valid, _lambda=lambda_values[i], tot_iter=2000, alpha=0.1 )\n",
    "    final_loss.append(float(np.asarray(J_valid[-1])))"
   ]
  },
  {
   "cell_type": "code",
   "execution_count": 7,
   "id": "21998b38",
   "metadata": {},
   "outputs": [
    {
     "data": {
      "text/plain": [
       "[-0.057973986409076375,\n",
       " -0.05797428219304107,\n",
       " -0.0579748243573265,\n",
       " -0.057975818127229246,\n",
       " -0.057977639665530725,\n",
       " -0.05798097843362995,\n",
       " -0.05798709807423572,\n",
       " -0.05799831439430137,\n",
       " -0.05801887079316164,\n",
       " -0.05805654053694744,\n",
       " -0.05812555574773626,\n",
       " -0.058251949530651666,\n",
       " -0.058483258767518066,\n",
       " -0.058906011395479574,\n",
       " -0.05967679216526598,\n",
       " -0.06107594055781869,\n",
       " -0.06359552386878324,\n",
       " -0.06806809795137712,\n",
       " -0.0758083853347817]"
      ]
     },
     "execution_count": 7,
     "metadata": {},
     "output_type": "execute_result"
    }
   ],
   "source": [
    "final_loss"
   ]
  },
  {
   "cell_type": "markdown",
   "id": "299573d1",
   "metadata": {},
   "source": [
    "We then see which model has the smallest cost (we use max(final_loss)) since we have the raw values and not absolute values in that list)"
   ]
  },
  {
   "cell_type": "code",
   "execution_count": 8,
   "id": "6c939178",
   "metadata": {},
   "outputs": [
    {
     "data": {
      "text/plain": [
       "0.0001"
      ]
     },
     "execution_count": 8,
     "metadata": {},
     "output_type": "execute_result"
    }
   ],
   "source": [
    "o = [index for index, item in enumerate(final_loss) if item == max(final_loss)]\n",
    "     \n",
    "lambda_values[o[0]]"
   ]
  },
  {
   "cell_type": "markdown",
   "id": "a62d241b",
   "metadata": {},
   "source": [
    "We then train a model with this lambda value and see how well it does in classifying the test data"
   ]
  },
  {
   "cell_type": "code",
   "execution_count": 9,
   "id": "737cd3e9",
   "metadata": {},
   "outputs": [
    {
     "name": "stdout",
     "output_type": "stream",
     "text": [
      "Model: Logistic Regression Classifier, Accuracy of test set:  0.981081081081081\n"
     ]
    }
   ],
   "source": [
    "J_train, J_valid, theta = ComputeLogisticRegression( X_train, y_train, X_valid, y_valid, _lambda=0.0001, tot_iter=2000, alpha=0.1 )\n",
    "print_Predictions(theta, X_test, y_test, name='Logistic Regression Classifier', threshold=0.5 -1e-6)"
   ]
  }
 ],
 "metadata": {
  "language_info": {
   "codemirror_mode": {
    "name": "ipython",
    "version": 3
   },
   "file_extension": ".py",
   "mimetype": "text/x-python",
   "name": "python",
   "nbconvert_exporter": "python",
   "pygments_lexer": "ipython3",
   "version": "3.8.0"
  }
 },
 "nbformat": 4,
 "nbformat_minor": 5
}
